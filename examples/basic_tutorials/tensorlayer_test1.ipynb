{
 "cells": [
  {
   "cell_type": "code",
   "execution_count": 1,
   "metadata": {},
   "outputs": [
    {
     "name": "stdout",
     "output_type": "stream",
     "text": [
      "Collecting tensorflow==2.0.0-rc1\n",
      "  Downloading https://files.pythonhosted.org/packages/0a/f0/020664b2286eb78b5ff16aad0fa1b96483be525a937d4bf6e168232853e2/tensorflow-2.0.0rc1-cp37-cp37m-win_amd64.whl (48.1MB)\n",
      "Collecting keras-applications>=1.0.8 (from tensorflow==2.0.0-rc1)\n",
      "  Downloading https://files.pythonhosted.org/packages/71/e3/19762fdfc62877ae9102edf6342d71b28fbfd9dea3d2f96a882ce099b03f/Keras_Applications-1.0.8-py3-none-any.whl (50kB)\n",
      "Collecting protobuf>=3.6.1 (from tensorflow==2.0.0-rc1)\n",
      "  Downloading https://files.pythonhosted.org/packages/46/8b/5e77963dac4a944a0c6b198c004fac4c85d7adc54221c288fc6ca9078072/protobuf-3.9.1-cp37-cp37m-win_amd64.whl (1.0MB)\n",
      "Collecting tb-nightly<1.15.0a20190807,>=1.15.0a20190806 (from tensorflow==2.0.0-rc1)\n",
      "  Downloading https://files.pythonhosted.org/packages/bc/88/24b5fb7280e74c7cf65bde47c171547fd02afb3840cff41bcbe9270650f5/tb_nightly-1.15.0a20190806-py3-none-any.whl (4.3MB)\n",
      "Collecting opt-einsum>=2.3.2 (from tensorflow==2.0.0-rc1)\n",
      "  Downloading https://files.pythonhosted.org/packages/c0/1a/ab5683d8e450e380052d3a3e77bb2c9dffa878058f583587c3875041fb63/opt_einsum-3.0.1.tar.gz (66kB)\n",
      "Collecting google-pasta>=0.1.6 (from tensorflow==2.0.0-rc1)\n",
      "  Using cached https://files.pythonhosted.org/packages/d0/33/376510eb8d6246f3c30545f416b2263eee461e40940c2a4413c711bdf62d/google_pasta-0.1.7-py3-none-any.whl\n",
      "Collecting astor>=0.6.0 (from tensorflow==2.0.0-rc1)\n",
      "  Downloading https://files.pythonhosted.org/packages/d1/4f/950dfae467b384fc96bc6469de25d832534f6b4441033c39f914efd13418/astor-0.8.0-py2.py3-none-any.whl\n",
      "Collecting absl-py>=0.7.0 (from tensorflow==2.0.0-rc1)\n",
      "  Downloading https://files.pythonhosted.org/packages/3c/0d/7cbf64cac3f93617a2b6b079c0182e4a83a3e7a8964d3b0cc3d9758ba002/absl-py-0.8.0.tar.gz (102kB)\n",
      "Requirement already satisfied: six>=1.10.0 in c:\\users\\yi\\anaconda3\\lib\\site-packages (from tensorflow==2.0.0-rc1) (1.12.0)\n",
      "Collecting tf-estimator-nightly<1.14.0.dev2019080602,>=1.14.0.dev2019080601 (from tensorflow==2.0.0-rc1)\n",
      "  Downloading https://files.pythonhosted.org/packages/21/28/f2a27a62943d5f041e4a6fd404b2d21cb7c59b2242a4e73b03d9ba166552/tf_estimator_nightly-1.14.0.dev2019080601-py2.py3-none-any.whl (501kB)\n",
      "Collecting gast>=0.2.0 (from tensorflow==2.0.0-rc1)\n",
      "  Downloading https://files.pythonhosted.org/packages/1f/04/4e36c33f8eb5c5b6c622a1f4859352a6acca7ab387257d4b3c191d23ec1d/gast-0.3.2.tar.gz\n",
      "Requirement already satisfied: wheel>=0.26 in c:\\users\\yi\\anaconda3\\lib\\site-packages (from tensorflow==2.0.0-rc1) (0.33.4)\n",
      "Collecting grpcio>=1.8.6 (from tensorflow==2.0.0-rc1)\n",
      "  Downloading https://files.pythonhosted.org/packages/32/e7/478737fd426798caad32a2abb7cc63ddb4c12908d9e03471dd3c41992b05/grpcio-1.23.0-cp37-cp37m-win_amd64.whl (1.6MB)\n",
      "Requirement already satisfied: wrapt>=1.11.1 in c:\\users\\yi\\anaconda3\\lib\\site-packages (from tensorflow==2.0.0-rc1) (1.11.2)\n",
      "Requirement already satisfied: numpy<2.0,>=1.16.0 in c:\\users\\yi\\anaconda3\\lib\\site-packages (from tensorflow==2.0.0-rc1) (1.16.4)\n",
      "Collecting keras-preprocessing>=1.0.5 (from tensorflow==2.0.0-rc1)\n",
      "  Downloading https://files.pythonhosted.org/packages/28/6a/8c1f62c37212d9fc441a7e26736df51ce6f0e38455816445471f10da4f0a/Keras_Preprocessing-1.1.0-py2.py3-none-any.whl (41kB)\n",
      "Collecting termcolor>=1.1.0 (from tensorflow==2.0.0-rc1)\n",
      "  Downloading https://files.pythonhosted.org/packages/8a/48/a76be51647d0eb9f10e2a4511bf3ffb8cc1e6b14e9e4fab46173aa79f981/termcolor-1.1.0.tar.gz\n",
      "Requirement already satisfied: h5py in c:\\users\\yi\\anaconda3\\lib\\site-packages (from keras-applications>=1.0.8->tensorflow==2.0.0-rc1) (2.9.0)\n",
      "Requirement already satisfied: setuptools in c:\\users\\yi\\anaconda3\\lib\\site-packages (from protobuf>=3.6.1->tensorflow==2.0.0-rc1) (41.0.1)\n",
      "Requirement already satisfied: werkzeug>=0.11.15 in c:\\users\\yi\\anaconda3\\lib\\site-packages (from tb-nightly<1.15.0a20190807,>=1.15.0a20190806->tensorflow==2.0.0-rc1) (0.15.4)\n",
      "Collecting markdown>=2.6.8 (from tb-nightly<1.15.0a20190807,>=1.15.0a20190806->tensorflow==2.0.0-rc1)\n",
      "  Downloading https://files.pythonhosted.org/packages/c0/4e/fd492e91abdc2d2fcb70ef453064d980688762079397f779758e055f6575/Markdown-3.1.1-py2.py3-none-any.whl (87kB)\n",
      "Building wheels for collected packages: opt-einsum, absl-py, gast, termcolor\n",
      "  Building wheel for opt-einsum (setup.py): started\n",
      "  Building wheel for opt-einsum (setup.py): finished with status 'done'\n",
      "  Stored in directory: C:\\Users\\Yi\\AppData\\Local\\pip\\Cache\\wheels\\91\\98\\8d\\10e3d4e04c959597a411b91acd3695e9e2d210e68ce3427aad\n",
      "  Building wheel for absl-py (setup.py): started\n",
      "  Building wheel for absl-py (setup.py): finished with status 'done'\n",
      "  Stored in directory: C:\\Users\\Yi\\AppData\\Local\\pip\\Cache\\wheels\\9a\\1e\\7a\\456008eb5e47fd5de792c6139df6d5b3d5f71d51c6a0b94799\n",
      "  Building wheel for gast (setup.py): started\n",
      "  Building wheel for gast (setup.py): finished with status 'done'\n",
      "  Stored in directory: C:\\Users\\Yi\\AppData\\Local\\pip\\Cache\\wheels\\59\\38\\c6\\234dc39b4f6951a0768fbc02d5b7207137a5b1d9094f0d54bf\n",
      "  Building wheel for termcolor (setup.py): started\n",
      "  Building wheel for termcolor (setup.py): finished with status 'done'\n",
      "  Stored in directory: C:\\Users\\Yi\\AppData\\Local\\pip\\Cache\\wheels\\7c\\06\\54\\bc84598ba1daf8f970247f550b175aaaee85f68b4b0c5ab2c6\n",
      "Successfully built opt-einsum absl-py gast termcolor\n",
      "Installing collected packages: keras-applications, protobuf, grpcio, markdown, absl-py, tb-nightly, opt-einsum, google-pasta, astor, tf-estimator-nightly, gast, keras-preprocessing, termcolor, tensorflow\n",
      "Successfully installed absl-py-0.8.0 astor-0.8.0 gast-0.3.2 google-pasta-0.1.7 grpcio-1.23.0 keras-applications-1.0.8 keras-preprocessing-1.1.0 markdown-3.1.1 opt-einsum-3.0.1 protobuf-3.9.1 tb-nightly-1.15.0a20190806 tensorflow-2.0.0rc1 termcolor-1.1.0 tf-estimator-nightly-1.14.0.dev2019080601\n"
     ]
    }
   ],
   "source": [
    "!pip install tensorflow==2.0.0-rc1 "
   ]
  },
  {
   "cell_type": "code",
   "execution_count": 3,
   "metadata": {},
   "outputs": [
    {
     "name": "stdout",
     "output_type": "stream",
     "text": [
      "Collecting tensorlayer\n",
      "  Using cached https://files.pythonhosted.org/packages/66/7d/80daea9f4359253b76266bc3d4ebd665b5a56eab4117a96d60e63f2182cb/tensorlayer-2.1.0-py2.py3-none-any.whl\n",
      "Collecting scikit-learn==0.21.0 (from tensorlayer)\n",
      "  Using cached https://files.pythonhosted.org/packages/14/df/12398d6bb3500f47904135a3d2459f644e5b71bade7a75ab72f107e032af/scikit_learn-0.21.0-cp37-cp37m-win_amd64.whl\n",
      "Requirement already satisfied: scikit-image==0.15.0 in c:\\users\\yi\\anaconda3\\lib\\site-packages (from tensorlayer) (0.15.0)\n",
      "Requirement already satisfied: numpy<1.17,>=1.16 in c:\\users\\yi\\anaconda3\\lib\\site-packages (from tensorlayer) (1.16.4)\n",
      "Requirement already satisfied: cloudpickle>=0.8.1 in c:\\users\\yi\\anaconda3\\lib\\site-packages (from tensorlayer) (1.2.1)\n",
      "Requirement already satisfied: imageio==2.5.0 in c:\\users\\yi\\anaconda3\\lib\\site-packages (from tensorlayer) (2.5.0)\n",
      "Collecting wrapt==1.11.1 (from tensorlayer)\n",
      "Collecting requests==2.21.0 (from tensorlayer)\n",
      "  Using cached https://files.pythonhosted.org/packages/7d/e3/20f3d364d6c8e5d2353c72a67778eb189176f08e873c9900e10c0287b84b/requests-2.21.0-py2.py3-none-any.whl\n",
      "Requirement already satisfied: scipy==1.2.1 in c:\\users\\yi\\anaconda3\\lib\\site-packages (from tensorlayer) (1.2.1)\n",
      "Collecting progressbar2==3.39.3 (from tensorlayer)\n",
      "  Using cached https://files.pythonhosted.org/packages/fb/89/d90f9ff03285d8eb56994e8cec1b73a4d0dc9bb529c1f8e8e10b1b663843/progressbar2-3.39.3-py2.py3-none-any.whl\n",
      "Requirement already satisfied: h5py>=2.9 in c:\\users\\yi\\anaconda3\\lib\\site-packages (from tensorlayer) (2.9.0)\n",
      "Requirement already satisfied: joblib>=0.11 in c:\\users\\yi\\anaconda3\\lib\\site-packages (from scikit-learn==0.21.0->tensorlayer) (0.13.2)\n",
      "Requirement already satisfied: pillow>=4.3.0 in c:\\users\\yi\\anaconda3\\lib\\site-packages (from scikit-image==0.15.0->tensorlayer) (6.1.0)\n",
      "Requirement already satisfied: matplotlib!=3.0.0,>=2.0.0 in c:\\users\\yi\\anaconda3\\lib\\site-packages (from scikit-image==0.15.0->tensorlayer) (3.1.0)\n",
      "Requirement already satisfied: networkx>=2.0 in c:\\users\\yi\\anaconda3\\lib\\site-packages (from scikit-image==0.15.0->tensorlayer) (2.3)\n",
      "Requirement already satisfied: PyWavelets>=0.4.0 in c:\\users\\yi\\anaconda3\\lib\\site-packages (from scikit-image==0.15.0->tensorlayer) (1.0.3)\n",
      "Requirement already satisfied: chardet<3.1.0,>=3.0.2 in c:\\users\\yi\\anaconda3\\lib\\site-packages (from requests==2.21.0->tensorlayer) (3.0.4)\n",
      "Requirement already satisfied: idna<2.9,>=2.5 in c:\\users\\yi\\anaconda3\\lib\\site-packages (from requests==2.21.0->tensorlayer) (2.8)\n",
      "Requirement already satisfied: urllib3<1.25,>=1.21.1 in c:\\users\\yi\\anaconda3\\lib\\site-packages (from requests==2.21.0->tensorlayer) (1.24.2)\n",
      "Requirement already satisfied: certifi>=2017.4.17 in c:\\users\\yi\\anaconda3\\lib\\site-packages (from requests==2.21.0->tensorlayer) (2019.6.16)\n",
      "Collecting python-utils>=2.3.0 (from progressbar2==3.39.3->tensorlayer)\n",
      "  Using cached https://files.pythonhosted.org/packages/eb/a0/19119d8b7c05be49baf6c593f11c432d571b70d805f2fe94c0585e55e4c8/python_utils-2.3.0-py2.py3-none-any.whl\n",
      "Requirement already satisfied: six in c:\\users\\yi\\anaconda3\\lib\\site-packages (from progressbar2==3.39.3->tensorlayer) (1.12.0)\n",
      "Requirement already satisfied: cycler>=0.10 in c:\\users\\yi\\anaconda3\\lib\\site-packages (from matplotlib!=3.0.0,>=2.0.0->scikit-image==0.15.0->tensorlayer) (0.10.0)\n",
      "Requirement already satisfied: kiwisolver>=1.0.1 in c:\\users\\yi\\anaconda3\\lib\\site-packages (from matplotlib!=3.0.0,>=2.0.0->scikit-image==0.15.0->tensorlayer) (1.1.0)\n",
      "Requirement already satisfied: pyparsing!=2.0.4,!=2.1.2,!=2.1.6,>=2.0.1 in c:\\users\\yi\\anaconda3\\lib\\site-packages (from matplotlib!=3.0.0,>=2.0.0->scikit-image==0.15.0->tensorlayer) (2.4.0)\n",
      "Requirement already satisfied: python-dateutil>=2.1 in c:\\users\\yi\\anaconda3\\lib\\site-packages (from matplotlib!=3.0.0,>=2.0.0->scikit-image==0.15.0->tensorlayer) (2.8.0)\n",
      "Requirement already satisfied: decorator>=4.3.0 in c:\\users\\yi\\anaconda3\\lib\\site-packages (from networkx>=2.0->scikit-image==0.15.0->tensorlayer) (4.4.0)\n",
      "Requirement already satisfied: setuptools in c:\\users\\yi\\anaconda3\\lib\\site-packages (from kiwisolver>=1.0.1->matplotlib!=3.0.0,>=2.0.0->scikit-image==0.15.0->tensorlayer) (41.0.1)\n",
      "Installing collected packages: scikit-learn, wrapt, requests, python-utils, progressbar2, tensorlayer\n",
      "  Found existing installation: scikit-learn 0.21.2\n",
      "    Uninstalling scikit-learn-0.21.2:\n",
      "      Successfully uninstalled scikit-learn-0.21.2\n",
      "  Found existing installation: wrapt 1.11.2\n",
      "    Uninstalling wrapt-1.11.2:\n",
      "      Successfully uninstalled wrapt-1.11.2\n",
      "  Found existing installation: requests 2.22.0\n",
      "    Uninstalling requests-2.22.0:\n",
      "      Successfully uninstalled requests-2.22.0\n",
      "Successfully installed progressbar2-3.39.3 python-utils-2.3.0 requests-2.21.0 scikit-learn-0.21.0 tensorlayer-2.1.0 wrapt-1.11.1\n"
     ]
    },
    {
     "name": "stderr",
     "output_type": "stream",
     "text": [
      "ERROR: astroid 2.2.5 requires typed-ast>=1.3.0; implementation_name == \"cpython\", which is not installed.\n"
     ]
    }
   ],
   "source": [
    "!pip install tensorlayer"
   ]
  },
  {
   "cell_type": "code",
   "execution_count": 1,
   "metadata": {},
   "outputs": [],
   "source": [
    "import numpy as np\n",
    "import tensorflow as tf\n",
    "import tensorlayer as tl\n",
    "tl.logging.set_verbosity(tl.logging.DEBUG)\n",
    "# set gpu mem fraction or allow growth\n",
    "# tl.utils.set_gpu_fraction()"
   ]
  },
  {
   "cell_type": "code",
   "execution_count": 2,
   "metadata": {},
   "outputs": [
    {
     "name": "stdout",
     "output_type": "stream",
     "text": [
      "[TL] Load or Download MNIST > data\\mnist\n",
      "[TL] data\\mnist\\train-images-idx3-ubyte.gz\n",
      "[TL] data\\mnist\\t10k-images-idx3-ubyte.gz\n",
      "[TL] Input  _inputlayer_1: [None, 784]\n",
      "[TL] Dropout dropout_1: keep: 0.800000 \n",
      "[TL] Dense  dense_1: 800 relu\n",
      "[TL] Dropout dropout_2: keep: 0.500000 \n",
      "[TL] Dense  dense_2: 800 relu\n",
      "[TL] Dropout dropout_3: keep: 0.500000 \n",
      "[TL] Dense  dense_3: 10 No Activation\n"
     ]
    }
   ],
   "source": [
    "# prepare data\n",
    "X_train, y_train, X_val, y_val, X_test, y_test = tl.files.load_mnist_dataset(shape=(-1, 784))\n",
    "\n",
    "# define the network\n",
    "ni = tl.layers.Input([None, 784])\n",
    "nn = tl.layers.Dropout(keep=0.8)(ni)\n",
    "nn = tl.layers.Dense(n_units=800, act=tf.nn.relu)(nn)\n",
    "nn = tl.layers.Dropout(keep=0.5)(nn)\n",
    "nn = tl.layers.Dense(n_units=800, act=tf.nn.relu)(nn)\n",
    "nn = tl.layers.Dropout(keep=0.5)(nn)\n",
    "nn = tl.layers.Dense(n_units=10, act=None)(nn)\n",
    "network = tl.models.Model(inputs=ni, outputs=nn, name=\"mlp\")"
   ]
  },
  {
   "cell_type": "code",
   "execution_count": 3,
   "metadata": {},
   "outputs": [
    {
     "data": {
      "text/plain": [
       "(50000, 784)"
      ]
     },
     "execution_count": 3,
     "metadata": {},
     "output_type": "execute_result"
    }
   ],
   "source": [
    "X_train.shape"
   ]
  },
  {
   "cell_type": "code",
   "execution_count": 7,
   "metadata": {},
   "outputs": [
    {
     "data": {
      "text/plain": [
       "(50000,)"
      ]
     },
     "execution_count": 7,
     "metadata": {},
     "output_type": "execute_result"
    }
   ],
   "source": [
    "y_train.shape"
   ]
  },
  {
   "cell_type": "code",
   "execution_count": 4,
   "metadata": {},
   "outputs": [
    {
     "name": "stdout",
     "output_type": "stream",
     "text": [
      "mlp(\n",
      "  (_inputlayer_1): Input(shape=[None, 784], name='_inputlayer_1')\n",
      "  (dropout_1): Dropout(keep=0.8, name='dropout_1')\n",
      "  (dense_1): Dense(n_units=800, relu, in_channels='784', name='dense_1')\n",
      "  (dropout_2): Dropout(keep=0.5, name='dropout_2')\n",
      "  (dense_2): Dense(n_units=800, relu, in_channels='800', name='dense_2')\n",
      "  (dropout_3): Dropout(keep=0.5, name='dropout_3')\n",
      "  (dense_3): Dense(n_units=10, No Activation, in_channels='800', name='dense_3')\n",
      ")\n"
     ]
    }
   ],
   "source": [
    "# define metric.\n",
    "def acc(_logits, y_batch):\n",
    "    # return np.mean(np.equal(np.argmax(_logits, 1), y_batch))\n",
    "    return tf.reduce_mean(\n",
    "        tf.cast(tf.equal(tf.argmax(_logits, 1), tf.convert_to_tensor(y_batch, tf.int64)), tf.float32), name='accuracy'\n",
    "    )\n",
    "\n",
    "\n",
    "# print network information\n",
    "print(network)"
   ]
  },
  {
   "cell_type": "code",
   "execution_count": 5,
   "metadata": {},
   "outputs": [
    {
     "name": "stdout",
     "output_type": "stream",
     "text": [
      "[TL] Setting up tensorboard ...\n",
      "[TL] [!] ./tb_log exists ...\n",
      "[TL] Start training the network ...\n",
      "WARNING:tensorflow:Entity <function _train_step at 0x000001459C8EEEA0> could not be transformed and will be executed as-is. Please report this to the AutoGraph team. When filing the bug, set the verbosity to 10 (on Linux, `export AUTOGRAPH_VERBOSITY=10`) and attach the full output. Cause: Bad argument number for Name: 3, expecting 4\n",
      "WARNING: Entity <function _train_step at 0x000001459C8EEEA0> could not be transformed and will be executed as-is. Please report this to the AutoGraph team. When filing the bug, set the verbosity to 10 (on Linux, `export AUTOGRAPH_VERBOSITY=10`) and attach the full output. Cause: Bad argument number for Name: 3, expecting 4\n",
      "WARNING:tensorflow:Entity <function Function._initialize_uninitialized_variables.<locals>.initialize_variables at 0x000001459FD88D08> could not be transformed and will be executed as-is. Please report this to the AutoGraph team. When filing the bug, set the verbosity to 10 (on Linux, `export AUTOGRAPH_VERBOSITY=10`) and attach the full output. Cause: module 'gast' has no attribute 'Num'\n",
      "WARNING: Entity <function Function._initialize_uninitialized_variables.<locals>.initialize_variables at 0x000001459FD88D08> could not be transformed and will be executed as-is. Please report this to the AutoGraph team. When filing the bug, set the verbosity to 10 (on Linux, `export AUTOGRAPH_VERBOSITY=10`) and attach the full output. Cause: module 'gast' has no attribute 'Num'\n",
      "[TL] Epoch 1 of 20 took 9.856574s\n",
      "[TL]    train loss: 0.500460\n",
      "[TL]    train acc: 0.839343\n",
      "[TL] Epoch 5 of 20 took 11.320632s\n",
      "[TL]    train loss: 0.268674\n",
      "[TL]    train acc: 0.921354\n",
      "[TL] Epoch 10 of 20 took 12.328689s\n",
      "[TL]    train loss: 0.199035\n",
      "[TL]    train acc: 0.942909\n",
      "[TL] Epoch 15 of 20 took 10.796199s\n",
      "[TL]    train loss: 0.158057\n",
      "[TL]    train acc: 0.955349\n",
      "[TL] Epoch 20 of 20 took 11.855987s\n",
      "[TL]    train loss: 0.129489\n",
      "[TL]    train acc: 0.963882\n",
      "[TL] Total training time: 179.427649s\n",
      "[TL] Start testing the network ...\n",
      "[TL] confusion matrix: \n",
      "[[ 969    0    0    0    0    1    5    1    4    0]\n",
      " [   0 1127    2    2    0    1    2    0    1    0]\n",
      " [  10    1  982    6    3    0    6   11   13    0]\n",
      " [   0    0    7  974    0    7    0   10   11    1]\n",
      " [   1    4    3    0  942    0    9    1    2   20]\n",
      " [   6    1    0   19    1  836   12    2    9    6]\n",
      " [  10    3    0    0    5    4  935    1    0    0]\n",
      " [   2   11   15    3    3    0    0  975    2   17]\n",
      " [   5    3    4   12    7    4    5    8  921    5]\n",
      " [  10    6    1   10   12    2    1    8    8  951]]\n",
      "[TL] f1-score        : [0.97240341 0.98384985 0.9599218  0.956778   0.96368286 0.95706926\n",
      " 0.96740817 0.95354523 0.9470437  0.94673967]\n",
      "[TL] f1-score(macro) : 0.960844\n",
      "[TL] accuracy-score  : 0.961200\n",
      "[TL] [*] Saving TL weights into model.h5\n",
      "[TL] [*] Saved\n"
     ]
    }
   ],
   "source": [
    "# train the network\n",
    "tl.utils.fit(\n",
    "    network, train_op=tf.optimizers.Adam(learning_rate=0.0001), cost=tl.cost.cross_entropy, X_train=X_train,\n",
    "    y_train=y_train, acc=acc, batch_size=256, n_epoch=20, X_val=X_val, y_val=y_val, eval_train=True,\n",
    "    tensorboard_dir='./tb_log'\n",
    ")\n",
    "\n",
    "# test\n",
    "tl.utils.test(network, acc, X_test, y_test, batch_size=None, cost=tl.cost.cross_entropy)\n",
    "\n",
    "# evaluation\n",
    "_logits = tl.utils.predict(network, X_test)\n",
    "y_pred = np.argmax(_logits, 1)\n",
    "tl.utils.evaluation(y_test, y_pred, n_classes=10)\n",
    "\n",
    "# save network weights\n",
    "network.save_weights('model.h5')\n",
    "\n",
    "# close tensorboard\n",
    "# tl.utils.exit_tensorflow(port=6006)"
   ]
  },
  {
   "cell_type": "code",
   "execution_count": null,
   "metadata": {},
   "outputs": [],
   "source": []
  }
 ],
 "metadata": {
  "kernelspec": {
   "display_name": "Python 3",
   "language": "python",
   "name": "python3"
  },
  "language_info": {
   "codemirror_mode": {
    "name": "ipython",
    "version": 3
   },
   "file_extension": ".py",
   "mimetype": "text/x-python",
   "name": "python",
   "nbconvert_exporter": "python",
   "pygments_lexer": "ipython3",
   "version": "3.7.3"
  }
 },
 "nbformat": 4,
 "nbformat_minor": 2
}
